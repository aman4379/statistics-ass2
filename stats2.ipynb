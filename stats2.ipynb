{
 "cells": [
  {
   "cell_type": "markdown",
   "id": "c1c11908-b2f8-486a-97eb-d07c43b519c8",
   "metadata": {},
   "source": [
    "Q1. What are the three measures of central tendency?"
   ]
  },
  {
   "cell_type": "code",
   "execution_count": null,
   "id": "b69421e6-14ff-492e-a404-f8c382a50128",
   "metadata": {},
   "outputs": [],
   "source": [
    "Ans Measures of central tendency help you find the middle, or the average, of a dataset. The 3 most common\n",
    "    measures of central tendency are the mode, median, and mean."
   ]
  },
  {
   "cell_type": "markdown",
   "id": "95dd072d-71ad-488c-880f-939a6cc7e14a",
   "metadata": {},
   "source": [
    "Q2. What is the difference between the mean, median, and mode? How are they used to measure the\n",
    "central tendency of a dataset?"
   ]
  },
  {
   "cell_type": "code",
   "execution_count": null,
   "id": "77cd0d5b-f472-4974-8804-f4bbc8b74fb3",
   "metadata": {},
   "outputs": [],
   "source": [
    "Ans Mean median and mode are the three measures of central tendency. The mean is the value obtained by \n",
    "    dividing the sum of the observations by the number of observations, and it is often called average. \n",
    "    The median is the middlemost value in the ordered list of observations, whereas the mode is the most \n",
    "    frequently occurring value."
   ]
  },
  {
   "cell_type": "markdown",
   "id": "d2693583-509d-4272-9430-20b0f01c28dc",
   "metadata": {},
   "source": [
    "Q3. Measure the three measures of central tendency for the given height data:\n",
    "[178,177,176,177,178.2,178,175,179,180,175,178.9,176.2,177,172.5,178,176.5]"
   ]
  },
  {
   "cell_type": "code",
   "execution_count": 3,
   "id": "4c0e7813-4063-4911-acfe-cb8bb95c1a3d",
   "metadata": {},
   "outputs": [
    {
     "data": {
      "text/plain": [
       "177.01875"
      ]
     },
     "execution_count": 3,
     "metadata": {},
     "output_type": "execute_result"
    }
   ],
   "source": [
    "l = [178,177,176,177,178.2,178,175,179,180,175,178.9,176.2,177,172.5,178,176.5]\n",
    "import numpy as np\n",
    "np.mean(l)"
   ]
  },
  {
   "cell_type": "code",
   "execution_count": 4,
   "id": "3daa74fd-9f86-43d9-a15f-c584f5bbd3eb",
   "metadata": {},
   "outputs": [
    {
     "data": {
      "text/plain": [
       "177.0"
      ]
     },
     "execution_count": 4,
     "metadata": {},
     "output_type": "execute_result"
    }
   ],
   "source": [
    "np.median(l)"
   ]
  },
  {
   "cell_type": "code",
   "execution_count": 6,
   "id": "b3fb589f-613b-4f35-b05b-cde9b00e9c2f",
   "metadata": {},
   "outputs": [
    {
     "name": "stderr",
     "output_type": "stream",
     "text": [
      "/tmp/ipykernel_77/3491401086.py:2: FutureWarning: Unlike other reduction functions (e.g. `skew`, `kurtosis`), the default behavior of `mode` typically preserves the axis it acts along. In SciPy 1.11.0, this behavior will change: the default value of `keepdims` will become False, the `axis` over which the statistic is taken will be eliminated, and the value None will no longer be accepted. Set `keepdims` to True or False to avoid this warning.\n",
      "  stats.mode(l)\n"
     ]
    },
    {
     "data": {
      "text/plain": [
       "ModeResult(mode=array([177.]), count=array([3]))"
      ]
     },
     "execution_count": 6,
     "metadata": {},
     "output_type": "execute_result"
    }
   ],
   "source": [
    "from scipy import stats\n",
    "stats.mode(l)"
   ]
  },
  {
   "cell_type": "markdown",
   "id": "0fabcdf1-67da-44d5-b274-3420bcd1521e",
   "metadata": {},
   "source": [
    "Q4. Find the standard deviation for the given data:\n",
    "[178,177,176,177,178.2,178,175,179,180,175,178.9,176.2,177,172.5,178,176.5]"
   ]
  },
  {
   "cell_type": "code",
   "execution_count": 8,
   "id": "ccbb1117-1219-4f5f-9fba-e1562494ed77",
   "metadata": {},
   "outputs": [
    {
     "data": {
      "text/plain": [
       "1.7885814036548633"
      ]
     },
     "execution_count": 8,
     "metadata": {},
     "output_type": "execute_result"
    }
   ],
   "source": [
    "k = [178,177,176,177,178.2,178,175,179,180,175,178.9,176.2,177,172.5,178,176.5]\n",
    "np.std(k)"
   ]
  },
  {
   "cell_type": "markdown",
   "id": "b3164ea1-ca22-41e5-8f9f-f0bf0f766225",
   "metadata": {},
   "source": [
    "Q5. How are measures of dispersion such as range, variance, and standard deviation used to describe\n",
    "the spread of a dataset? Provide an example."
   ]
  },
  {
   "cell_type": "code",
   "execution_count": null,
   "id": "ee0e1328-d164-4093-96bc-4bdb7fb228da",
   "metadata": {},
   "outputs": [],
   "source": [
    "Ans The dispersion is constantly dependent on the observations and types of central tendency metrics used.\n",
    "    Range: Range refers to the difference between each series’ minimum and maximum values. The range offers\n",
    "    us a good indication of how dispersed the data is, but we need other measures of variability to \n",
    "    discover the dispersion of data from central tendency measurements.\n",
    "    Variance\n",
    "    Variance is a simple measure of dispersion. Variance measures how far each number in the dataset from \n",
    "    the mean. To compute variance first, calculate the mean and squared deviations from a mean.\n",
    "    Standard deviation\n",
    "    The standard deviation is the average amount of variability in your dataset.\n",
    "    It tells you, on average, how far each score lies from the mean. The larger the standard deviation, the\n",
    "    more variable the data set is"
   ]
  },
  {
   "cell_type": "markdown",
   "id": "0def2c68-abaf-42c6-8bcf-72b0225537fd",
   "metadata": {},
   "source": [
    "Q6. What is a Venn diagram?"
   ]
  },
  {
   "cell_type": "code",
   "execution_count": null,
   "id": "195807bb-b0d1-4bc0-bb3e-22669a42dbca",
   "metadata": {},
   "outputs": [],
   "source": [
    "Ans A Venn diagram is a representation of how groups relate to one another, with groups called \"sets.\" Venn\n",
    "    diagrams usually consist of two to three circles—or other shapes—that overlap, but there can be more \n",
    "    shapes in a diagram based on the number of sets. Each shape represents a set of numbers, objects or \n",
    "    concepts."
   ]
  },
  {
   "cell_type": "markdown",
   "id": "9cb93e87-42fa-493b-aa97-157d1939eb9a",
   "metadata": {},
   "source": [
    "Q7. For the two given sets A = (2,3,4,5,6,7) & B = (0,2,6,8,10). Find:\n",
    "(i) A B\n",
    "(ii) A ⋃ B"
   ]
  },
  {
   "cell_type": "code",
   "execution_count": null,
   "id": "d99649e7-6c68-41ca-bb86-98accc182248",
   "metadata": {},
   "outputs": [],
   "source": [
    "(i)Ans  (2,6)\n",
    "(ii)Ans  (0,2,3,4,5,6,7,8,10)"
   ]
  },
  {
   "cell_type": "markdown",
   "id": "c75e355d-0608-4056-890a-d03408f3529a",
   "metadata": {},
   "source": [
    "Q8. What do you understand about skewness in data?"
   ]
  },
  {
   "cell_type": "code",
   "execution_count": null,
   "id": "959fd902-dc43-4c32-a9ca-d007f9fe650d",
   "metadata": {},
   "outputs": [],
   "source": [
    "Ans Skewness describes how much statistical data distribution is asymmetrical from the normal distribution,\n",
    "    where distribution is equally divided on each side. If a distribution is not symmetrical or normal, it \n",
    "    is skewed, i.e., the frequency distribution skewed to the left or right."
   ]
  },
  {
   "cell_type": "markdown",
   "id": "24ab4446-865c-405b-aefd-9c3a6182a277",
   "metadata": {},
   "source": [
    "Q9. If a data is right skewed then what will be the position of median with respect to mean?"
   ]
  },
  {
   "cell_type": "code",
   "execution_count": null,
   "id": "a863454d-9065-429d-a382-16b2b8006d17",
   "metadata": {},
   "outputs": [],
   "source": [
    "Ans Well, the answer to that is that the skewness of the data distribution is on the right; it causes the \n",
    "    mean to be greater than the median and eventually move to the right. Also, the mode occurs at the \n",
    "    highest frequency of the distribution, which is on the left side of the median. Therefore, the measure\n",
    "    of central tendencies is mode < median < mean."
   ]
  },
  {
   "cell_type": "markdown",
   "id": "481251ec-c718-4c32-952d-5e77609a52b8",
   "metadata": {},
   "source": [
    "Q10. Explain the difference between covariance and correlation. How are these measures used in\n",
    "statistical analysis?"
   ]
  },
  {
   "cell_type": "code",
   "execution_count": null,
   "id": "7070af17-e322-4baf-807c-dfb48ac723c0",
   "metadata": {},
   "outputs": [],
   "source": [
    "Ans Covariance is a measure which shows the extent to which two random variables change in tandem. \n",
    "    Correlation gives the indication of how variables are related."
   ]
  },
  {
   "cell_type": "markdown",
   "id": "8ff9c060-8aef-460b-916b-d85f87ee28da",
   "metadata": {},
   "source": [
    "Q11. What is the formula for calculating the sample mean? Provide an example calculation for a\n",
    "dataset."
   ]
  },
  {
   "cell_type": "code",
   "execution_count": null,
   "id": "37504ef4-d690-4342-a8ee-1e5b75880eba",
   "metadata": {},
   "outputs": [],
   "source": [
    "Ans The sample mean formula is:\n",
    "    x̄ = ( Σ xi ) / n\n",
    "    x̄ just stands for the “sample mean”\n",
    "    Σ is summation notation, which means “add up”\n",
    "    xi “all of the x-values”\n",
    "    n means “the number of items in the sample”"
   ]
  },
  {
   "cell_type": "markdown",
   "id": "00a3e88d-6fe3-48b8-ac98-f096ee6c6709",
   "metadata": {},
   "source": [
    "Q12. For a normal distribution data what is the relationship between its measure of central tendency?"
   ]
  },
  {
   "cell_type": "code",
   "execution_count": null,
   "id": "2838c84b-c752-4141-85ae-38c89ae7fa25",
   "metadata": {},
   "outputs": [],
   "source": [
    "Ans In the Normal Distribution, Mean, Median and Mode are equal but in a negatively skewed distribution, \n",
    "    we express the general relationship between the central tendency measured as: Mode > Median > Mean."
   ]
  },
  {
   "cell_type": "markdown",
   "id": "36a66ca6-c301-4d93-8d92-ab63943a6acc",
   "metadata": {},
   "source": [
    "Q13. How is covariance different from correlation?"
   ]
  },
  {
   "cell_type": "code",
   "execution_count": null,
   "id": "8e585f05-2eb0-4165-8227-847480f5eeb6",
   "metadata": {},
   "outputs": [],
   "source": [
    "Ans Covariance indicates the direction of the linear relationship between variables while correlation \n",
    "    measures both the strength and direction of the linear relationship between two variables. Correlation \n",
    "    is a function of the covariance."
   ]
  },
  {
   "cell_type": "markdown",
   "id": "f72eaa00-4481-488d-94d9-06e8bd509d2b",
   "metadata": {},
   "source": [
    "Q14. How do outliers affect measures of central tendency and dispersion? Provide an example."
   ]
  },
  {
   "cell_type": "code",
   "execution_count": null,
   "id": "ce2297c7-485e-48c8-b088-89e44b0dd133",
   "metadata": {},
   "outputs": [],
   "source": [
    "Ans Outliers can significantly increase or decrease the mean when they are included in the calculation. \n",
    "    Since all values are used to calculate the mean, it can be affected by extreme outliers. An outlier is \n",
    "    a value that differs significantly from the others in a dataset.\n",
    "    For example, consider a dataset of 10 numbers: 1, 2, 3, 4, 5, 6, 7, 8, 9 and 100. The mean of this \n",
    "    dataset is (1+2+3+4+5+6+7+8+9+100)/10 = 14.5. However, this value is not representative of most of the \n",
    "    data points because of the outlier value of 100. The median of this dataset is (5+6)/2 = 5.5 which is a\n",
    "    better representation of most of the data points"
   ]
  },
  {
   "cell_type": "code",
   "execution_count": null,
   "id": "3edd9ff7-9374-4a9a-852d-96d901d1db86",
   "metadata": {},
   "outputs": [],
   "source": []
  },
  {
   "cell_type": "code",
   "execution_count": null,
   "id": "5fddb883-cf96-451e-8808-e5b6e1f30d8a",
   "metadata": {},
   "outputs": [],
   "source": []
  },
  {
   "cell_type": "code",
   "execution_count": null,
   "id": "29a5d51c-49c3-4e1d-8235-65c99727eebb",
   "metadata": {},
   "outputs": [],
   "source": []
  }
 ],
 "metadata": {
  "kernelspec": {
   "display_name": "Python 3 (ipykernel)",
   "language": "python",
   "name": "python3"
  },
  "language_info": {
   "codemirror_mode": {
    "name": "ipython",
    "version": 3
   },
   "file_extension": ".py",
   "mimetype": "text/x-python",
   "name": "python",
   "nbconvert_exporter": "python",
   "pygments_lexer": "ipython3",
   "version": "3.10.8"
  }
 },
 "nbformat": 4,
 "nbformat_minor": 5
}
